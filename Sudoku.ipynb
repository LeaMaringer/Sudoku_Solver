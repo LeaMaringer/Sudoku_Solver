{
 "cells": [
  {
   "cell_type": "code",
   "execution_count": 15,
   "id": "b953b8c5",
   "metadata": {},
   "outputs": [],
   "source": [
    "import numpy as np\n",
    "import copy as cp\n",
    "\n",
    "# empty cells are represented by 0\n",
    "board =[[0, 2, 0, 7, 0, 0, 0, 1, 5],\n",
    "       [0, 0, 0, 0, 0, 0, 6, 0, 0],\n",
    "       [5, 0, 0, 9, 0, 0, 0, 0, 0],\n",
    "       [8, 0, 0, 0, 0, 0, 0, 0, 0],\n",
    "       [0, 0, 0, 0, 0, 0, 0, 2, 0],\n",
    "       [0, 0, 6, 0, 0, 4, 0, 7, 3],\n",
    "       [0, 0, 7, 8, 0, 1, 0, 6, 0],\n",
    "       [0, 0, 4, 0, 7, 0, 0, 5, 0],\n",
    "       [0, 0, 3, 0, 4, 9, 0, 0, 0]]\n",
    "\n",
    "board = np.array(board)\n",
    "unsolved_board = cp.deepcopy(board)"
   ]
  },
  {
   "cell_type": "code",
   "execution_count": 16,
   "id": "9477f006",
   "metadata": {},
   "outputs": [
    {
     "data": {
      "text/plain": [
       "True"
      ]
     },
     "execution_count": 16,
     "metadata": {},
     "output_type": "execute_result"
    }
   ],
   "source": [
    "def in_row(number, row): \n",
    "    return number in board[row]\n",
    "\n",
    "# returns true if number (integer between 1 and 9) is in the row row\n",
    "# (an integer between 0 and 8) and else false"
   ]
  },
  {
   "cell_type": "code",
   "execution_count": 18,
   "id": "3547c9a0",
   "metadata": {},
   "outputs": [
    {
     "data": {
      "text/plain": [
       "False"
      ]
     },
     "execution_count": 18,
     "metadata": {},
     "output_type": "execute_result"
    }
   ],
   "source": [
    "def in_column(number, column):\n",
    "    return number in board[:,column]\n",
    "\n",
    "# returns true if number (integer between 1 and 9) is in the column column\n",
    "# (an integer between 0 and 8) and else false"
   ]
  },
  {
   "cell_type": "code",
   "execution_count": 19,
   "id": "2fab0449",
   "metadata": {},
   "outputs": [
    {
     "data": {
      "text/plain": [
       "True"
      ]
     },
     "execution_count": 19,
     "metadata": {},
     "output_type": "execute_result"
    }
   ],
   "source": [
    "def in_square(number, sqr):\n",
    "    insqr = False\n",
    "    for l in board[sqr[0]*3:(sqr[0]+1)*3,sqr[1]*3:(sqr[1]+1)*3]:\n",
    "        if number in l:\n",
    "            insqr = True\n",
    "    return insqr\n",
    "\n",
    "# returns true if number (integer between 1 and 9) is in le square sqr\n",
    "# (sqr is a cell (3x3) defined be a tuple (i,j) with i and j integers between 0 and 2)\n",
    "# for example in_square(1, (0,2)) returns true if 2 is in the square (0,0) (the one in the board's upper left), else false"
   ]
  },
  {
   "cell_type": "code",
   "execution_count": 20,
   "id": "e76abcff",
   "metadata": {},
   "outputs": [],
   "source": [
    "def check(number, row, column):\n",
    "    return (not in_row(number, row) \n",
    "            and not in_column(number, column) \n",
    "            and not in_square(number, (row//3, column//3)))\n",
    "\n",
    "# checks if number (integer between 1 and 9) can be in the cell (row, column)\n",
    "# (row and column are integers between 0 and 8)"
   ]
  },
  {
   "cell_type": "code",
   "execution_count": 21,
   "id": "21aefc66",
   "metadata": {
    "scrolled": true
   },
   "outputs": [],
   "source": [
    "def find_empty(board):\n",
    "    for i in range(len(board)):\n",
    "        for j in range(len(board[0])):\n",
    "            if board[i][j] == 0:\n",
    "                return (i, j)\n",
    "    return None\n",
    "\n",
    "# returns a tuple (i,j) of an empty cell (i and j are integers between 0 and 8)"
   ]
  },
  {
   "cell_type": "code",
   "execution_count": 22,
   "id": "889bb152",
   "metadata": {
    "scrolled": false
   },
   "outputs": [],
   "source": [
    "def solve(board): \n",
    "    empty = find_empty(board)\n",
    "    if not empty:   \n",
    "        return True\n",
    "    else:\n",
    "        row = empty[0]\n",
    "        column = empty[1]\n",
    "    for i in range(1,10):\n",
    "        if check (i , row, column):\n",
    "            board[row][column] = i\n",
    "            if solve(board):\n",
    "                return True\n",
    "            else:\n",
    "                board[row][column] = 0        \n",
    "    return False"
   ]
  },
  {
   "cell_type": "code",
   "execution_count": 23,
   "id": "b82c1d1d",
   "metadata": {},
   "outputs": [
    {
     "name": "stdout",
     "output_type": "stream",
     "text": [
      "Unsolved board\n",
      "[[0 2 0 7 0 0 0 1 5]\n",
      " [0 0 0 0 0 0 6 0 0]\n",
      " [5 0 0 9 0 0 0 0 0]\n",
      " [8 0 0 0 0 0 0 0 0]\n",
      " [0 0 0 0 0 0 0 2 0]\n",
      " [0 0 6 0 0 4 0 7 3]\n",
      " [0 0 7 8 0 1 0 6 0]\n",
      " [0 0 4 0 7 0 0 5 0]\n",
      " [0 0 3 0 4 9 0 0 0]] \n",
      "\n",
      "True\n",
      "Solved board\n",
      "[[4 2 9 7 6 3 8 1 5]\n",
      " [3 7 8 4 1 5 6 9 2]\n",
      " [5 6 1 9 2 8 7 3 4]\n",
      " [8 3 2 1 5 7 9 4 6]\n",
      " [7 4 5 3 9 6 1 2 8]\n",
      " [1 9 6 2 8 4 5 7 3]\n",
      " [2 5 7 8 3 1 4 6 9]\n",
      " [9 8 4 6 7 2 3 5 1]\n",
      " [6 1 3 5 4 9 2 8 7]]\n"
     ]
    }
   ],
   "source": [
    "print(\"Unsolved board\")\n",
    "print(unsolved_board,\"\\n\")\n",
    "\n",
    "print(\"Solved board\")\n",
    "print(board)"
   ]
  }
 ],
 "metadata": {
  "kernelspec": {
   "display_name": "Python 3 (ipykernel)",
   "language": "python",
   "name": "python3"
  },
  "language_info": {
   "codemirror_mode": {
    "name": "ipython",
    "version": 3
   },
   "file_extension": ".py",
   "mimetype": "text/x-python",
   "name": "python",
   "nbconvert_exporter": "python",
   "pygments_lexer": "ipython3",
   "version": "3.9.7"
  }
 },
 "nbformat": 4,
 "nbformat_minor": 5
}
